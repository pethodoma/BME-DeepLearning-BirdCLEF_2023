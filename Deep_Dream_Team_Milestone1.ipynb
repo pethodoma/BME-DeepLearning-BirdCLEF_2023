{
  "cells": [
    {
      "cell_type": "markdown",
      "source": [
        "[![Open In Colab](https://colab.research.google.com/assets/colab-badge.svg)](https://colab.research.google.com/drive/1vSPf0npfBJLW-ZV8dXD292VVpP6V1vbW?usp=drive_link)\n"
      ],
      "metadata": {
        "id": "ELlazwSS-o_8"
      }
    },
    {
      "cell_type": "markdown",
      "source": [
        "We are working with audiofiles. We plan on feeding them as spectrograms to the neural network. First we begin with downloading and importing the dependencies."
      ],
      "metadata": {
        "id": "Dt8BVAfTtD2z"
      }
    },
    {
      "cell_type": "code",
      "execution_count": 1,
      "metadata": {
        "colab": {
          "base_uri": "https://localhost:8080/"
        },
        "id": "4M4HSeG9bYp1",
        "outputId": "65e8d7e4-64b2-4ee4-c69f-0fbaef239a2a",
        "scrolled": true
      },
      "outputs": [
        {
          "output_type": "stream",
          "name": "stdout",
          "text": [
            "Requirement already satisfied: gdown in /usr/local/lib/python3.10/dist-packages (4.6.6)\n",
            "Requirement already satisfied: filelock in /usr/local/lib/python3.10/dist-packages (from gdown) (3.12.4)\n",
            "Requirement already satisfied: requests[socks] in /usr/local/lib/python3.10/dist-packages (from gdown) (2.31.0)\n",
            "Requirement already satisfied: six in /usr/local/lib/python3.10/dist-packages (from gdown) (1.16.0)\n",
            "Requirement already satisfied: tqdm in /usr/local/lib/python3.10/dist-packages (from gdown) (4.66.1)\n",
            "Requirement already satisfied: beautifulsoup4 in /usr/local/lib/python3.10/dist-packages (from gdown) (4.11.2)\n",
            "Requirement already satisfied: soupsieve>1.2 in /usr/local/lib/python3.10/dist-packages (from beautifulsoup4->gdown) (2.5)\n",
            "Requirement already satisfied: charset-normalizer<4,>=2 in /usr/local/lib/python3.10/dist-packages (from requests[socks]->gdown) (3.3.0)\n",
            "Requirement already satisfied: idna<4,>=2.5 in /usr/local/lib/python3.10/dist-packages (from requests[socks]->gdown) (3.4)\n",
            "Requirement already satisfied: urllib3<3,>=1.21.1 in /usr/local/lib/python3.10/dist-packages (from requests[socks]->gdown) (2.0.7)\n",
            "Requirement already satisfied: certifi>=2017.4.17 in /usr/local/lib/python3.10/dist-packages (from requests[socks]->gdown) (2023.7.22)\n",
            "Requirement already satisfied: PySocks!=1.5.7,>=1.5.6 in /usr/local/lib/python3.10/dist-packages (from requests[socks]->gdown) (1.7.1)\n",
            "Requirement already satisfied: librosa in /usr/local/lib/python3.10/dist-packages (0.10.1)\n",
            "Requirement already satisfied: audioread>=2.1.9 in /usr/local/lib/python3.10/dist-packages (from librosa) (3.0.1)\n",
            "Requirement already satisfied: numpy!=1.22.0,!=1.22.1,!=1.22.2,>=1.20.3 in /usr/local/lib/python3.10/dist-packages (from librosa) (1.23.5)\n",
            "Requirement already satisfied: scipy>=1.2.0 in /usr/local/lib/python3.10/dist-packages (from librosa) (1.11.3)\n",
            "Requirement already satisfied: scikit-learn>=0.20.0 in /usr/local/lib/python3.10/dist-packages (from librosa) (1.2.2)\n",
            "Requirement already satisfied: joblib>=0.14 in /usr/local/lib/python3.10/dist-packages (from librosa) (1.3.2)\n",
            "Requirement already satisfied: decorator>=4.3.0 in /usr/local/lib/python3.10/dist-packages (from librosa) (4.4.2)\n",
            "Requirement already satisfied: numba>=0.51.0 in /usr/local/lib/python3.10/dist-packages (from librosa) (0.56.4)\n",
            "Requirement already satisfied: soundfile>=0.12.1 in /usr/local/lib/python3.10/dist-packages (from librosa) (0.12.1)\n",
            "Requirement already satisfied: pooch>=1.0 in /usr/local/lib/python3.10/dist-packages (from librosa) (1.7.0)\n",
            "Requirement already satisfied: soxr>=0.3.2 in /usr/local/lib/python3.10/dist-packages (from librosa) (0.3.7)\n",
            "Requirement already satisfied: typing-extensions>=4.1.1 in /usr/local/lib/python3.10/dist-packages (from librosa) (4.5.0)\n",
            "Requirement already satisfied: lazy-loader>=0.1 in /usr/local/lib/python3.10/dist-packages (from librosa) (0.3)\n",
            "Requirement already satisfied: msgpack>=1.0 in /usr/local/lib/python3.10/dist-packages (from librosa) (1.0.7)\n",
            "Requirement already satisfied: llvmlite<0.40,>=0.39.0dev0 in /usr/local/lib/python3.10/dist-packages (from numba>=0.51.0->librosa) (0.39.1)\n",
            "Requirement already satisfied: setuptools in /usr/local/lib/python3.10/dist-packages (from numba>=0.51.0->librosa) (67.7.2)\n",
            "Requirement already satisfied: platformdirs>=2.5.0 in /usr/local/lib/python3.10/dist-packages (from pooch>=1.0->librosa) (3.11.0)\n",
            "Requirement already satisfied: packaging>=20.0 in /usr/local/lib/python3.10/dist-packages (from pooch>=1.0->librosa) (23.2)\n",
            "Requirement already satisfied: requests>=2.19.0 in /usr/local/lib/python3.10/dist-packages (from pooch>=1.0->librosa) (2.31.0)\n",
            "Requirement already satisfied: threadpoolctl>=2.0.0 in /usr/local/lib/python3.10/dist-packages (from scikit-learn>=0.20.0->librosa) (3.2.0)\n",
            "Requirement already satisfied: cffi>=1.0 in /usr/local/lib/python3.10/dist-packages (from soundfile>=0.12.1->librosa) (1.16.0)\n",
            "Requirement already satisfied: pycparser in /usr/local/lib/python3.10/dist-packages (from cffi>=1.0->soundfile>=0.12.1->librosa) (2.21)\n",
            "Requirement already satisfied: charset-normalizer<4,>=2 in /usr/local/lib/python3.10/dist-packages (from requests>=2.19.0->pooch>=1.0->librosa) (3.3.0)\n",
            "Requirement already satisfied: idna<4,>=2.5 in /usr/local/lib/python3.10/dist-packages (from requests>=2.19.0->pooch>=1.0->librosa) (3.4)\n",
            "Requirement already satisfied: urllib3<3,>=1.21.1 in /usr/local/lib/python3.10/dist-packages (from requests>=2.19.0->pooch>=1.0->librosa) (2.0.7)\n",
            "Requirement already satisfied: certifi>=2017.4.17 in /usr/local/lib/python3.10/dist-packages (from requests>=2.19.0->pooch>=1.0->librosa) (2023.7.22)\n"
          ]
        }
      ],
      "source": [
        "# install packages\n",
        "!pip install gdown\n",
        "!pip install librosa"
      ]
    },
    {
      "cell_type": "code",
      "execution_count": 2,
      "metadata": {
        "id": "XFPzr0vuZ8YI"
      },
      "outputs": [],
      "source": [
        "# import packages\n",
        "import pandas as pd\n",
        "import numpy as np\n",
        "import gdown\n",
        "import os\n",
        "import librosa.display\n",
        "import librosa\n",
        "import zipfile\n",
        "from sklearn.model_selection import train_test_split\n",
        "from itertools import chain"
      ]
    },
    {
      "cell_type": "markdown",
      "source": [
        "The files are supplied with labels that relate to the species of bird present in the recording. There are 264 different categories in the provided dataset. We plan on using on-hot arrays as target values, and this class creates one-hot arrays from these labels based on the header of the sample_submission.csv in the provided dataset."
      ],
      "metadata": {
        "id": "OkWMc36guLJI"
      }
    },
    {
      "cell_type": "code",
      "execution_count": 3,
      "metadata": {
        "id": "_G6-XWOpfnZf"
      },
      "outputs": [],
      "source": [
        "# Class for generating one-hot codes from the labels\n",
        "class LabelCoder:\n",
        "  # Extracting the categories from the header of a csv file (sample_submissions.csv in this case). Filepath, and the index of the first column in the header with a valid label are required arguments\n",
        "  def __init__(self, path_to_file, labels_start_in_header):\n",
        "    self.encoding_list = pd.read_csv(path_to_file, header=None).loc[0, labels_start_in_header:].tolist()\n",
        "\n",
        "  # Converting the labels to one-hot codes. This method considers the possibility for one file to have multiple labels\n",
        "  def encode(self, input):\n",
        "    indices = []\n",
        "    # Gathering the indices of the labels in the original list\n",
        "    # If there are multiple labels\n",
        "    if type(input) == list:\n",
        "      for label in input:\n",
        "        if label in self.encoding_list:\n",
        "          indices.append(self.encoding_list.index(label))\n",
        "    # If there is only one\n",
        "    else:\n",
        "      if input in self.encoding_list:\n",
        "        indices.append(self.encoding_list.index(input))\n",
        "\n",
        "    # Creating an array with the size of the number of categories with all zero values\n",
        "    encoded_info = np.zeros(len(self.encoding_list))\n",
        "    # Replacing zeros with ones at the indices of the present categories\n",
        "    encoded_info[indices] = 1\n",
        "    return encoded_info\n",
        "\n",
        "  # Converting one-hot arrays to lists of categories\n",
        "  def decode(self, array):\n",
        "    # Gathering the indices of the ones in the\n",
        "    indices = np.where(array != 0)[0]\n",
        "    labels_list = []\n",
        "    for index in indices:\n",
        "        # Retrieving the appropriate label for the index from the original list of categories\n",
        "        labels_list.append(self.encoding_list[index])\n",
        "    return labels_list"
      ]
    },
    {
      "cell_type": "markdown",
      "source": [
        "There around 17000 audiofiles in the provided training dataset. About 2000 of them has multiple labels. We decided to exclude them from the training dataset for a simpler input for the neural network and because there is plenty of data at hand. Also, in the metadata of the files there is rating describing the quality of the sound files. We decided to throw the files with low ratings."
      ],
      "metadata": {
        "id": "h95vLhJKu7hi"
      }
    },
    {
      "cell_type": "code",
      "execution_count": 4,
      "metadata": {
        "id": "LYs4UzeEfpim"
      },
      "outputs": [],
      "source": [
        "def cleandata(df):\n",
        "\n",
        "    df = pd.read_csv('train_metadata.csv')\n",
        "\n",
        "    print(\"Fill missing data\")\n",
        "\n",
        "    # get columns with missing data (longitude ad latitude)\n",
        "    cols_w_missing_data = df.columns[df.isnull().any()]\n",
        "\n",
        "    # fill missing data with the average of the other values in the column\n",
        "    for column in cols_w_missing_data:\n",
        "        mean = df[column].mean()\n",
        "        df[column].fillna(mean,inplace=True)\n",
        "\n",
        "\n",
        "    print(\"Cleaning data...\")\n",
        "\n",
        "    # delete data with low rating (rating in interval [0.0, 0.5]) from dataframe\n",
        "    # get the names of the files with a rating of 0.0 or 0.5 - these are the files we want to get rid of\n",
        "    poorRatingFilenames = df.loc[df['rating'].isin([0.0, 0.5])]['filename'].values.tolist()\n",
        "\n",
        "    rows_to_delete = df.loc[df['rating'].isin([0.0, 0.5])].index\n",
        "    df.drop(rows_to_delete, inplace=True)\n",
        "\n",
        "    # the folder which contains the audio files\n",
        "    trainpath='train_audio'\n",
        "\n",
        "    # creating an array of the files to delete with the full path\n",
        "    FilesToDelete = [os.path.join(subdir, file) for subdir, dirs, files in os.walk(trainpath) for file in files if os.path.basename(subdir)+'/'+file in poorRatingFilenames]\n",
        "\n",
        "    # delete files with more than 1 labels\n",
        "    rows_with_multiple_labels = df[df['secondary_labels'].apply(lambda x: len(x) > 2)]\n",
        "    df.drop(rows_with_multiple_labels.index, inplace=True)\n",
        "    files_with_multiple_labels = rows_with_multiple_labels['filename']\n",
        "    file_array = np.array(files_with_multiple_labels)\n",
        "\n",
        "    for i in range(len(file_array)):\n",
        "        file_path = (os.path.join(\"train_audio/\" , file_array[i]))\n",
        "        FilesToDelete.append(file_path)\n",
        "\n",
        "    # also delete files that are shorter than 1 sec\n",
        "    # it takes a lot of time (about 45 mins) to search these files so we built it in the code\n",
        "    short_files = [\"categr/XC368933.ogg\",\"categr/XC368934.ogg\",\"eubeat1/XC647701.ogg\",\"gargan/XC310912.ogg\",\"gobbun1/XC200993.ogg\",\"greegr/XC338469.ogg\",\"litegr/XC147857.ogg\",\"piekin1/XC601791.ogg\",\"rerswa1/XC191112.ogg\",\"strher/XC255388.ogg\"]\n",
        "    for i in range(len(short_files)):\n",
        "        df.drop(df[df['filename'] == short_files[i]].index,inplace=True)\n",
        "        file_path = os.path.join(\"train_audio/\" , short_files[i])\n",
        "        FilesToDelete.append(file_path)\n",
        "\n",
        "    FilesToDelete = np.unique(FilesToDelete)\n",
        "\n",
        "    ## if there aren't any files to delete, then we dont need to do anything - assuming the data path is right\n",
        "    if len(FilesToDelete) == 0:\n",
        "        print(\"Data has already been cleaned\")\n",
        "    else:\n",
        "        count = sum(1 for file in FilesToDelete if os.remove(file) is None)\n",
        "        print(f\"Deleted {count} files\")\n",
        "\n",
        "    return df"
      ]
    },
    {
      "cell_type": "markdown",
      "source": [
        "As storing spectrograms requires lots of memory (about 10 MB each) and we have around 14000 remaining audiofiles, storing them all at once would require around 140 GB of memory. To avoid this, we decided to feed the files in batches to the neural network and only convert them to spectrograms right before passing them as inputs to the neural network.  Before that, we refer to them by their file paths. Similarly, we do the same with the labels, we only create the one-hot arrays before passing the data to the neural network.\n",
        "\n",
        "This piece of code reads the filepaths and sorts them in an alphabetic order (as the metadata is sorted like that as well)"
      ],
      "metadata": {
        "id": "EgNR1Fl1xhtF"
      }
    },
    {
      "cell_type": "code",
      "execution_count": 5,
      "metadata": {
        "id": "g2yuukTgp261"
      },
      "outputs": [],
      "source": [
        "def read_file_paths():\n",
        "    main_directory = 'train_audio'\n",
        "    file_paths = []\n",
        "\n",
        "    # go through all folders and get the paths of all .ogg audio files\n",
        "    for root, directories, files in os.walk(main_directory):\n",
        "        for file in files:\n",
        "            if file.endswith('.ogg'):\n",
        "                file_path = os.path.join(root, file)\n",
        "                file_paths.append(file_path)\n",
        "\n",
        "    # os.walk may not go in alphabetical order thus it needs to be sorted\n",
        "    file_paths.sort()\n",
        "    return file_paths"
      ]
    },
    {
      "cell_type": "markdown",
      "source": [
        "This function fetches the audiofiles and converts them to spectrograms, and then normalizes them in batches. It also creates their respective-labels to one-hot arrays."
      ],
      "metadata": {
        "id": "30s7VuMj0Ddt"
      }
    },
    {
      "cell_type": "code",
      "execution_count": 6,
      "metadata": {
        "id": "7qSiPp9jh71M"
      },
      "outputs": [],
      "source": [
        "# Reading the sound files in batches and converting them to spectrograms and normalizing the data as well as converting the labels to one-hot arrays\n",
        "def get_batch(file_paths,labels,batch_number,batch_size,data_size):\n",
        "    lc = LabelCoder('sample_submission.csv', 1)\n",
        "    batch = []\n",
        "    encoded_labels = []\n",
        "    end_of_batch = np.min(((batch_number+1)*batch_size,data_size))\n",
        "    for i in range(batch_number*batch_size,end_of_batch):\n",
        "        filename = file_paths[i]\n",
        "        print(filename)\n",
        "        samples, sample_rate = librosa.load(filename, sr=None)\n",
        "        spectrogram = librosa.amplitude_to_db(np.abs(librosa.stft(samples)),ref=np.max)\n",
        "        mean = np.mean(spectrogram)\n",
        "        std = np.std(spectrogram)\n",
        "        batch.append((spectrogram-mean)/std)\n",
        "        encoded_labels.append(lc.encode(labels[i]))\n",
        "\n",
        "    return batch, encoded_labels"
      ]
    },
    {
      "cell_type": "markdown",
      "source": [
        "We download the data, unzip the folder, and delete the unneccesary files as well as remove thei data from the metadata csv."
      ],
      "metadata": {
        "id": "9YRwkodV0ZWR"
      }
    },
    {
      "cell_type": "code",
      "execution_count": 7,
      "metadata": {
        "colab": {
          "base_uri": "https://localhost:8080/",
          "height": 105
        },
        "id": "a7g2--zxcuv7",
        "outputId": "ebf5b9be-7f61-49b1-eaf0-faecd69b76e0"
      },
      "outputs": [
        {
          "output_type": "stream",
          "name": "stderr",
          "text": [
            "Downloading...\n",
            "From: https://drive.google.com/u/0/uc?id=1y3XTDabEW5vhhh2Seh3FYsdMA3yNodMz&export=download\n",
            "To: /content/database.zip\n",
            "100%|██████████| 5.27G/5.27G [00:46<00:00, 114MB/s] \n"
          ]
        },
        {
          "output_type": "execute_result",
          "data": {
            "text/plain": [
              "'database.zip'"
            ],
            "application/vnd.google.colaboratory.intrinsic+json": {
              "type": "string"
            }
          },
          "metadata": {},
          "execution_count": 7
        }
      ],
      "source": [
        "# download data\n",
        "url = 'https://drive.google.com/u/0/uc?id=1y3XTDabEW5vhhh2Seh3FYsdMA3yNodMz&export=download'\n",
        "output = 'database.zip'\n",
        "\n",
        "gdown.download(url,output)"
      ]
    },
    {
      "cell_type": "code",
      "execution_count": 8,
      "metadata": {
        "id": "J1wgn9WIc4rR"
      },
      "outputs": [],
      "source": [
        "# unzip data\n",
        "with zipfile.ZipFile('database.zip', 'r') as zip_ref:\n",
        "    zip_ref.extractall()"
      ]
    },
    {
      "cell_type": "code",
      "execution_count": 9,
      "metadata": {
        "colab": {
          "base_uri": "https://localhost:8080/",
          "height": 1000
        },
        "id": "UbmmwpRJdK_r",
        "outputId": "9ab98d18-ca1c-4c87-85de-90d30fc90695"
      },
      "outputs": [
        {
          "output_type": "execute_result",
          "data": {
            "text/plain": [
              "      primary_label secondary_labels              type  latitude  longitude  \\\n",
              "0           abethr1               []          ['song']    4.3906    38.2788   \n",
              "1           abethr1               []          ['call']   -2.9524    38.2921   \n",
              "2           abethr1               []          ['song']   -2.9524    38.2921   \n",
              "3           abethr1               []          ['song']   -2.9524    38.2921   \n",
              "4           abethr1               []  ['call', 'song']   -2.9524    38.2921   \n",
              "...             ...              ...               ...       ...        ...   \n",
              "16936       yewgre1               []              ['']   -1.2502    29.7971   \n",
              "16937       yewgre1               []              ['']   -1.2489    29.7923   \n",
              "16938       yewgre1               []              ['']   -1.2433    29.7844   \n",
              "16939       yewgre1               []              ['']    0.0452    36.3699   \n",
              "16940       yewgre1               []              ['']   -0.3986    37.3087   \n",
              "\n",
              "            scientific_name                common_name          author  \\\n",
              "0        Turdus tephronotus   African Bare-eyed Thrush   Rolf A. de By   \n",
              "1        Turdus tephronotus   African Bare-eyed Thrush   James Bradley   \n",
              "2        Turdus tephronotus   African Bare-eyed Thrush   James Bradley   \n",
              "3        Turdus tephronotus   African Bare-eyed Thrush   James Bradley   \n",
              "4        Turdus tephronotus   African Bare-eyed Thrush   James Bradley   \n",
              "...                     ...                        ...             ...   \n",
              "16936  Eurillas latirostris  Yellow-whiskered Greenbul  András Schmidt   \n",
              "16937  Eurillas latirostris  Yellow-whiskered Greenbul  András Schmidt   \n",
              "16938  Eurillas latirostris  Yellow-whiskered Greenbul  András Schmidt   \n",
              "16939  Eurillas latirostris  Yellow-whiskered Greenbul   Lars Lachmann   \n",
              "16940  Eurillas latirostris  Yellow-whiskered Greenbul   Lars Lachmann   \n",
              "\n",
              "                                                 license  rating  \\\n",
              "0      Creative Commons Attribution-NonCommercial-Sha...     4.0   \n",
              "1      Creative Commons Attribution-NonCommercial-Sha...     3.5   \n",
              "2      Creative Commons Attribution-NonCommercial-Sha...     3.5   \n",
              "3      Creative Commons Attribution-NonCommercial-Sha...     5.0   \n",
              "4      Creative Commons Attribution-NonCommercial-Sha...     4.5   \n",
              "...                                                  ...     ...   \n",
              "16936  Creative Commons Attribution-NonCommercial-Sha...     3.0   \n",
              "16937  Creative Commons Attribution-NonCommercial-Sha...     4.0   \n",
              "16938  Creative Commons Attribution-NonCommercial-Sha...     4.0   \n",
              "16939  Creative Commons Attribution-NonCommercial-Sha...     4.0   \n",
              "16940  Creative Commons Attribution-NonCommercial-Sha...     4.5   \n",
              "\n",
              "                                     url              filename  \n",
              "0      https://www.xeno-canto.org/128013  abethr1/XC128013.ogg  \n",
              "1      https://www.xeno-canto.org/363501  abethr1/XC363501.ogg  \n",
              "2      https://www.xeno-canto.org/363502  abethr1/XC363502.ogg  \n",
              "3      https://www.xeno-canto.org/363503  abethr1/XC363503.ogg  \n",
              "4      https://www.xeno-canto.org/363504  abethr1/XC363504.ogg  \n",
              "...                                  ...                   ...  \n",
              "16936      https://xeno-canto.org/703472  yewgre1/XC703472.ogg  \n",
              "16937      https://xeno-canto.org/703485  yewgre1/XC703485.ogg  \n",
              "16938      https://xeno-canto.org/704433  yewgre1/XC704433.ogg  \n",
              "16939      https://xeno-canto.org/752974  yewgre1/XC752974.ogg  \n",
              "16940      https://xeno-canto.org/753190  yewgre1/XC753190.ogg  \n",
              "\n",
              "[16941 rows x 12 columns]"
            ],
            "text/html": [
              "\n",
              "  <div id=\"df-25ade3f1-cf8a-4a75-9887-65aaee416653\" class=\"colab-df-container\">\n",
              "    <div>\n",
              "<style scoped>\n",
              "    .dataframe tbody tr th:only-of-type {\n",
              "        vertical-align: middle;\n",
              "    }\n",
              "\n",
              "    .dataframe tbody tr th {\n",
              "        vertical-align: top;\n",
              "    }\n",
              "\n",
              "    .dataframe thead th {\n",
              "        text-align: right;\n",
              "    }\n",
              "</style>\n",
              "<table border=\"1\" class=\"dataframe\">\n",
              "  <thead>\n",
              "    <tr style=\"text-align: right;\">\n",
              "      <th></th>\n",
              "      <th>primary_label</th>\n",
              "      <th>secondary_labels</th>\n",
              "      <th>type</th>\n",
              "      <th>latitude</th>\n",
              "      <th>longitude</th>\n",
              "      <th>scientific_name</th>\n",
              "      <th>common_name</th>\n",
              "      <th>author</th>\n",
              "      <th>license</th>\n",
              "      <th>rating</th>\n",
              "      <th>url</th>\n",
              "      <th>filename</th>\n",
              "    </tr>\n",
              "  </thead>\n",
              "  <tbody>\n",
              "    <tr>\n",
              "      <th>0</th>\n",
              "      <td>abethr1</td>\n",
              "      <td>[]</td>\n",
              "      <td>['song']</td>\n",
              "      <td>4.3906</td>\n",
              "      <td>38.2788</td>\n",
              "      <td>Turdus tephronotus</td>\n",
              "      <td>African Bare-eyed Thrush</td>\n",
              "      <td>Rolf A. de By</td>\n",
              "      <td>Creative Commons Attribution-NonCommercial-Sha...</td>\n",
              "      <td>4.0</td>\n",
              "      <td>https://www.xeno-canto.org/128013</td>\n",
              "      <td>abethr1/XC128013.ogg</td>\n",
              "    </tr>\n",
              "    <tr>\n",
              "      <th>1</th>\n",
              "      <td>abethr1</td>\n",
              "      <td>[]</td>\n",
              "      <td>['call']</td>\n",
              "      <td>-2.9524</td>\n",
              "      <td>38.2921</td>\n",
              "      <td>Turdus tephronotus</td>\n",
              "      <td>African Bare-eyed Thrush</td>\n",
              "      <td>James Bradley</td>\n",
              "      <td>Creative Commons Attribution-NonCommercial-Sha...</td>\n",
              "      <td>3.5</td>\n",
              "      <td>https://www.xeno-canto.org/363501</td>\n",
              "      <td>abethr1/XC363501.ogg</td>\n",
              "    </tr>\n",
              "    <tr>\n",
              "      <th>2</th>\n",
              "      <td>abethr1</td>\n",
              "      <td>[]</td>\n",
              "      <td>['song']</td>\n",
              "      <td>-2.9524</td>\n",
              "      <td>38.2921</td>\n",
              "      <td>Turdus tephronotus</td>\n",
              "      <td>African Bare-eyed Thrush</td>\n",
              "      <td>James Bradley</td>\n",
              "      <td>Creative Commons Attribution-NonCommercial-Sha...</td>\n",
              "      <td>3.5</td>\n",
              "      <td>https://www.xeno-canto.org/363502</td>\n",
              "      <td>abethr1/XC363502.ogg</td>\n",
              "    </tr>\n",
              "    <tr>\n",
              "      <th>3</th>\n",
              "      <td>abethr1</td>\n",
              "      <td>[]</td>\n",
              "      <td>['song']</td>\n",
              "      <td>-2.9524</td>\n",
              "      <td>38.2921</td>\n",
              "      <td>Turdus tephronotus</td>\n",
              "      <td>African Bare-eyed Thrush</td>\n",
              "      <td>James Bradley</td>\n",
              "      <td>Creative Commons Attribution-NonCommercial-Sha...</td>\n",
              "      <td>5.0</td>\n",
              "      <td>https://www.xeno-canto.org/363503</td>\n",
              "      <td>abethr1/XC363503.ogg</td>\n",
              "    </tr>\n",
              "    <tr>\n",
              "      <th>4</th>\n",
              "      <td>abethr1</td>\n",
              "      <td>[]</td>\n",
              "      <td>['call', 'song']</td>\n",
              "      <td>-2.9524</td>\n",
              "      <td>38.2921</td>\n",
              "      <td>Turdus tephronotus</td>\n",
              "      <td>African Bare-eyed Thrush</td>\n",
              "      <td>James Bradley</td>\n",
              "      <td>Creative Commons Attribution-NonCommercial-Sha...</td>\n",
              "      <td>4.5</td>\n",
              "      <td>https://www.xeno-canto.org/363504</td>\n",
              "      <td>abethr1/XC363504.ogg</td>\n",
              "    </tr>\n",
              "    <tr>\n",
              "      <th>...</th>\n",
              "      <td>...</td>\n",
              "      <td>...</td>\n",
              "      <td>...</td>\n",
              "      <td>...</td>\n",
              "      <td>...</td>\n",
              "      <td>...</td>\n",
              "      <td>...</td>\n",
              "      <td>...</td>\n",
              "      <td>...</td>\n",
              "      <td>...</td>\n",
              "      <td>...</td>\n",
              "      <td>...</td>\n",
              "    </tr>\n",
              "    <tr>\n",
              "      <th>16936</th>\n",
              "      <td>yewgre1</td>\n",
              "      <td>[]</td>\n",
              "      <td>['']</td>\n",
              "      <td>-1.2502</td>\n",
              "      <td>29.7971</td>\n",
              "      <td>Eurillas latirostris</td>\n",
              "      <td>Yellow-whiskered Greenbul</td>\n",
              "      <td>András Schmidt</td>\n",
              "      <td>Creative Commons Attribution-NonCommercial-Sha...</td>\n",
              "      <td>3.0</td>\n",
              "      <td>https://xeno-canto.org/703472</td>\n",
              "      <td>yewgre1/XC703472.ogg</td>\n",
              "    </tr>\n",
              "    <tr>\n",
              "      <th>16937</th>\n",
              "      <td>yewgre1</td>\n",
              "      <td>[]</td>\n",
              "      <td>['']</td>\n",
              "      <td>-1.2489</td>\n",
              "      <td>29.7923</td>\n",
              "      <td>Eurillas latirostris</td>\n",
              "      <td>Yellow-whiskered Greenbul</td>\n",
              "      <td>András Schmidt</td>\n",
              "      <td>Creative Commons Attribution-NonCommercial-Sha...</td>\n",
              "      <td>4.0</td>\n",
              "      <td>https://xeno-canto.org/703485</td>\n",
              "      <td>yewgre1/XC703485.ogg</td>\n",
              "    </tr>\n",
              "    <tr>\n",
              "      <th>16938</th>\n",
              "      <td>yewgre1</td>\n",
              "      <td>[]</td>\n",
              "      <td>['']</td>\n",
              "      <td>-1.2433</td>\n",
              "      <td>29.7844</td>\n",
              "      <td>Eurillas latirostris</td>\n",
              "      <td>Yellow-whiskered Greenbul</td>\n",
              "      <td>András Schmidt</td>\n",
              "      <td>Creative Commons Attribution-NonCommercial-Sha...</td>\n",
              "      <td>4.0</td>\n",
              "      <td>https://xeno-canto.org/704433</td>\n",
              "      <td>yewgre1/XC704433.ogg</td>\n",
              "    </tr>\n",
              "    <tr>\n",
              "      <th>16939</th>\n",
              "      <td>yewgre1</td>\n",
              "      <td>[]</td>\n",
              "      <td>['']</td>\n",
              "      <td>0.0452</td>\n",
              "      <td>36.3699</td>\n",
              "      <td>Eurillas latirostris</td>\n",
              "      <td>Yellow-whiskered Greenbul</td>\n",
              "      <td>Lars Lachmann</td>\n",
              "      <td>Creative Commons Attribution-NonCommercial-Sha...</td>\n",
              "      <td>4.0</td>\n",
              "      <td>https://xeno-canto.org/752974</td>\n",
              "      <td>yewgre1/XC752974.ogg</td>\n",
              "    </tr>\n",
              "    <tr>\n",
              "      <th>16940</th>\n",
              "      <td>yewgre1</td>\n",
              "      <td>[]</td>\n",
              "      <td>['']</td>\n",
              "      <td>-0.3986</td>\n",
              "      <td>37.3087</td>\n",
              "      <td>Eurillas latirostris</td>\n",
              "      <td>Yellow-whiskered Greenbul</td>\n",
              "      <td>Lars Lachmann</td>\n",
              "      <td>Creative Commons Attribution-NonCommercial-Sha...</td>\n",
              "      <td>4.5</td>\n",
              "      <td>https://xeno-canto.org/753190</td>\n",
              "      <td>yewgre1/XC753190.ogg</td>\n",
              "    </tr>\n",
              "  </tbody>\n",
              "</table>\n",
              "<p>16941 rows × 12 columns</p>\n",
              "</div>\n",
              "    <div class=\"colab-df-buttons\">\n",
              "\n",
              "  <div class=\"colab-df-container\">\n",
              "    <button class=\"colab-df-convert\" onclick=\"convertToInteractive('df-25ade3f1-cf8a-4a75-9887-65aaee416653')\"\n",
              "            title=\"Convert this dataframe to an interactive table.\"\n",
              "            style=\"display:none;\">\n",
              "\n",
              "  <svg xmlns=\"http://www.w3.org/2000/svg\" height=\"24px\" viewBox=\"0 -960 960 960\">\n",
              "    <path d=\"M120-120v-720h720v720H120Zm60-500h600v-160H180v160Zm220 220h160v-160H400v160Zm0 220h160v-160H400v160ZM180-400h160v-160H180v160Zm440 0h160v-160H620v160ZM180-180h160v-160H180v160Zm440 0h160v-160H620v160Z\"/>\n",
              "  </svg>\n",
              "    </button>\n",
              "\n",
              "  <style>\n",
              "    .colab-df-container {\n",
              "      display:flex;\n",
              "      gap: 12px;\n",
              "    }\n",
              "\n",
              "    .colab-df-convert {\n",
              "      background-color: #E8F0FE;\n",
              "      border: none;\n",
              "      border-radius: 50%;\n",
              "      cursor: pointer;\n",
              "      display: none;\n",
              "      fill: #1967D2;\n",
              "      height: 32px;\n",
              "      padding: 0 0 0 0;\n",
              "      width: 32px;\n",
              "    }\n",
              "\n",
              "    .colab-df-convert:hover {\n",
              "      background-color: #E2EBFA;\n",
              "      box-shadow: 0px 1px 2px rgba(60, 64, 67, 0.3), 0px 1px 3px 1px rgba(60, 64, 67, 0.15);\n",
              "      fill: #174EA6;\n",
              "    }\n",
              "\n",
              "    .colab-df-buttons div {\n",
              "      margin-bottom: 4px;\n",
              "    }\n",
              "\n",
              "    [theme=dark] .colab-df-convert {\n",
              "      background-color: #3B4455;\n",
              "      fill: #D2E3FC;\n",
              "    }\n",
              "\n",
              "    [theme=dark] .colab-df-convert:hover {\n",
              "      background-color: #434B5C;\n",
              "      box-shadow: 0px 1px 3px 1px rgba(0, 0, 0, 0.15);\n",
              "      filter: drop-shadow(0px 1px 2px rgba(0, 0, 0, 0.3));\n",
              "      fill: #FFFFFF;\n",
              "    }\n",
              "  </style>\n",
              "\n",
              "    <script>\n",
              "      const buttonEl =\n",
              "        document.querySelector('#df-25ade3f1-cf8a-4a75-9887-65aaee416653 button.colab-df-convert');\n",
              "      buttonEl.style.display =\n",
              "        google.colab.kernel.accessAllowed ? 'block' : 'none';\n",
              "\n",
              "      async function convertToInteractive(key) {\n",
              "        const element = document.querySelector('#df-25ade3f1-cf8a-4a75-9887-65aaee416653');\n",
              "        const dataTable =\n",
              "          await google.colab.kernel.invokeFunction('convertToInteractive',\n",
              "                                                    [key], {});\n",
              "        if (!dataTable) return;\n",
              "\n",
              "        const docLinkHtml = 'Like what you see? Visit the ' +\n",
              "          '<a target=\"_blank\" href=https://colab.research.google.com/notebooks/data_table.ipynb>data table notebook</a>'\n",
              "          + ' to learn more about interactive tables.';\n",
              "        element.innerHTML = '';\n",
              "        dataTable['output_type'] = 'display_data';\n",
              "        await google.colab.output.renderOutput(dataTable, element);\n",
              "        const docLink = document.createElement('div');\n",
              "        docLink.innerHTML = docLinkHtml;\n",
              "        element.appendChild(docLink);\n",
              "      }\n",
              "    </script>\n",
              "  </div>\n",
              "\n",
              "\n",
              "<div id=\"df-2684897c-1183-4dfd-b081-9f1d3c76cff8\">\n",
              "  <button class=\"colab-df-quickchart\" onclick=\"quickchart('df-2684897c-1183-4dfd-b081-9f1d3c76cff8')\"\n",
              "            title=\"Suggest charts.\"\n",
              "            style=\"display:none;\">\n",
              "\n",
              "<svg xmlns=\"http://www.w3.org/2000/svg\" height=\"24px\"viewBox=\"0 0 24 24\"\n",
              "     width=\"24px\">\n",
              "    <g>\n",
              "        <path d=\"M19 3H5c-1.1 0-2 .9-2 2v14c0 1.1.9 2 2 2h14c1.1 0 2-.9 2-2V5c0-1.1-.9-2-2-2zM9 17H7v-7h2v7zm4 0h-2V7h2v10zm4 0h-2v-4h2v4z\"/>\n",
              "    </g>\n",
              "</svg>\n",
              "  </button>\n",
              "\n",
              "<style>\n",
              "  .colab-df-quickchart {\n",
              "      --bg-color: #E8F0FE;\n",
              "      --fill-color: #1967D2;\n",
              "      --hover-bg-color: #E2EBFA;\n",
              "      --hover-fill-color: #174EA6;\n",
              "      --disabled-fill-color: #AAA;\n",
              "      --disabled-bg-color: #DDD;\n",
              "  }\n",
              "\n",
              "  [theme=dark] .colab-df-quickchart {\n",
              "      --bg-color: #3B4455;\n",
              "      --fill-color: #D2E3FC;\n",
              "      --hover-bg-color: #434B5C;\n",
              "      --hover-fill-color: #FFFFFF;\n",
              "      --disabled-bg-color: #3B4455;\n",
              "      --disabled-fill-color: #666;\n",
              "  }\n",
              "\n",
              "  .colab-df-quickchart {\n",
              "    background-color: var(--bg-color);\n",
              "    border: none;\n",
              "    border-radius: 50%;\n",
              "    cursor: pointer;\n",
              "    display: none;\n",
              "    fill: var(--fill-color);\n",
              "    height: 32px;\n",
              "    padding: 0;\n",
              "    width: 32px;\n",
              "  }\n",
              "\n",
              "  .colab-df-quickchart:hover {\n",
              "    background-color: var(--hover-bg-color);\n",
              "    box-shadow: 0 1px 2px rgba(60, 64, 67, 0.3), 0 1px 3px 1px rgba(60, 64, 67, 0.15);\n",
              "    fill: var(--button-hover-fill-color);\n",
              "  }\n",
              "\n",
              "  .colab-df-quickchart-complete:disabled,\n",
              "  .colab-df-quickchart-complete:disabled:hover {\n",
              "    background-color: var(--disabled-bg-color);\n",
              "    fill: var(--disabled-fill-color);\n",
              "    box-shadow: none;\n",
              "  }\n",
              "\n",
              "  .colab-df-spinner {\n",
              "    border: 2px solid var(--fill-color);\n",
              "    border-color: transparent;\n",
              "    border-bottom-color: var(--fill-color);\n",
              "    animation:\n",
              "      spin 1s steps(1) infinite;\n",
              "  }\n",
              "\n",
              "  @keyframes spin {\n",
              "    0% {\n",
              "      border-color: transparent;\n",
              "      border-bottom-color: var(--fill-color);\n",
              "      border-left-color: var(--fill-color);\n",
              "    }\n",
              "    20% {\n",
              "      border-color: transparent;\n",
              "      border-left-color: var(--fill-color);\n",
              "      border-top-color: var(--fill-color);\n",
              "    }\n",
              "    30% {\n",
              "      border-color: transparent;\n",
              "      border-left-color: var(--fill-color);\n",
              "      border-top-color: var(--fill-color);\n",
              "      border-right-color: var(--fill-color);\n",
              "    }\n",
              "    40% {\n",
              "      border-color: transparent;\n",
              "      border-right-color: var(--fill-color);\n",
              "      border-top-color: var(--fill-color);\n",
              "    }\n",
              "    60% {\n",
              "      border-color: transparent;\n",
              "      border-right-color: var(--fill-color);\n",
              "    }\n",
              "    80% {\n",
              "      border-color: transparent;\n",
              "      border-right-color: var(--fill-color);\n",
              "      border-bottom-color: var(--fill-color);\n",
              "    }\n",
              "    90% {\n",
              "      border-color: transparent;\n",
              "      border-bottom-color: var(--fill-color);\n",
              "    }\n",
              "  }\n",
              "</style>\n",
              "\n",
              "  <script>\n",
              "    async function quickchart(key) {\n",
              "      const quickchartButtonEl =\n",
              "        document.querySelector('#' + key + ' button');\n",
              "      quickchartButtonEl.disabled = true;  // To prevent multiple clicks.\n",
              "      quickchartButtonEl.classList.add('colab-df-spinner');\n",
              "      try {\n",
              "        const charts = await google.colab.kernel.invokeFunction(\n",
              "            'suggestCharts', [key], {});\n",
              "      } catch (error) {\n",
              "        console.error('Error during call to suggestCharts:', error);\n",
              "      }\n",
              "      quickchartButtonEl.classList.remove('colab-df-spinner');\n",
              "      quickchartButtonEl.classList.add('colab-df-quickchart-complete');\n",
              "    }\n",
              "    (() => {\n",
              "      let quickchartButtonEl =\n",
              "        document.querySelector('#df-2684897c-1183-4dfd-b081-9f1d3c76cff8 button');\n",
              "      quickchartButtonEl.style.display =\n",
              "        google.colab.kernel.accessAllowed ? 'block' : 'none';\n",
              "    })();\n",
              "  </script>\n",
              "</div>\n",
              "    </div>\n",
              "  </div>\n"
            ]
          },
          "metadata": {},
          "execution_count": 9
        }
      ],
      "source": [
        "# print dataframe\n",
        "df = pd.read_csv('train_metadata.csv')\n",
        "df"
      ]
    },
    {
      "cell_type": "code",
      "execution_count": 10,
      "metadata": {
        "id": "CNyl9hwOpACT",
        "colab": {
          "base_uri": "https://localhost:8080/"
        },
        "outputId": "e3f12806-2d25-48c9-9e17-5e7c295c8eae"
      },
      "outputs": [
        {
          "output_type": "stream",
          "name": "stdout",
          "text": [
            "<class 'pandas.core.frame.DataFrame'>\n",
            "RangeIndex: 16941 entries, 0 to 16940\n",
            "Data columns (total 12 columns):\n",
            " #   Column            Non-Null Count  Dtype  \n",
            "---  ------            --------------  -----  \n",
            " 0   primary_label     16941 non-null  object \n",
            " 1   secondary_labels  16941 non-null  object \n",
            " 2   type              16941 non-null  object \n",
            " 3   latitude          16714 non-null  float64\n",
            " 4   longitude         16714 non-null  float64\n",
            " 5   scientific_name   16941 non-null  object \n",
            " 6   common_name       16941 non-null  object \n",
            " 7   author            16941 non-null  object \n",
            " 8   license           16941 non-null  object \n",
            " 9   rating            16941 non-null  float64\n",
            " 10  url               16941 non-null  object \n",
            " 11  filename          16941 non-null  object \n",
            "dtypes: float64(3), object(9)\n",
            "memory usage: 1.6+ MB\n"
          ]
        }
      ],
      "source": [
        "df.info()"
      ]
    },
    {
      "cell_type": "code",
      "execution_count": 11,
      "metadata": {
        "id": "NT6nn-YzplVv",
        "colab": {
          "base_uri": "https://localhost:8080/"
        },
        "outputId": "e07727ed-e520-4903-962b-00ad5fb61a42"
      },
      "outputs": [
        {
          "output_type": "stream",
          "name": "stdout",
          "text": [
            "Fill missing data\n",
            "Cleaning data...\n",
            "Deleted 2735 files\n"
          ]
        }
      ],
      "source": [
        "# Cleaning the data\n",
        "df = cleandata(df)"
      ]
    },
    {
      "cell_type": "markdown",
      "source": [
        "We read the filenames and the labels as the X and Y values and split the data into training, test and validation sets.\n"
      ],
      "metadata": {
        "id": "rmOPb3L20qwR"
      }
    },
    {
      "cell_type": "code",
      "execution_count": 12,
      "metadata": {
        "id": "PVfPCHrDpugB"
      },
      "outputs": [],
      "source": [
        "# Reading the filenames and the respective labels\n",
        "X = read_file_paths()\n",
        "Y = list(df['primary_label'])"
      ]
    },
    {
      "cell_type": "code",
      "execution_count": 13,
      "metadata": {
        "id": "0P8YS4Sy9N_x"
      },
      "outputs": [],
      "source": [
        "# Splitting the data to test and validation sets\n",
        "X_train, X_test_val, Y_train, Y_test_val = train_test_split(X, Y, test_size=0.2, random_state=42)\n",
        "\n",
        "X_test, X_val, Y_test, Y_val = train_test_split(X_test_val, Y_test_val, test_size=0.5, random_state=42)"
      ]
    },
    {
      "cell_type": "markdown",
      "source": [
        "Showing how we plan on passing the data to the neural network."
      ],
      "metadata": {
        "id": "q9WvESqi4_XG"
      }
    },
    {
      "cell_type": "code",
      "execution_count": 14,
      "metadata": {
        "id": "GJMrFN6pqbOP",
        "colab": {
          "base_uri": "https://localhost:8080/"
        },
        "outputId": "be26147d-f8cf-4e30-e92b-54b713c9641a"
      },
      "outputs": [
        {
          "output_type": "stream",
          "name": "stdout",
          "text": [
            "train_audio/abethr1/XC128013.ogg\n"
          ]
        },
        {
          "output_type": "execute_result",
          "data": {
            "text/plain": [
              "([array([[-1.999567 ,  0.7775941,  3.3069386, ...,  2.4107227,  4.0941734,\n",
              "           3.8054092],\n",
              "         [-1.8875908,  1.5222849,  3.4738145, ...,  3.585174 ,  4.2658105,\n",
              "           3.6609228],\n",
              "         [-1.3954798,  2.043205 ,  3.5988164, ...,  3.9832664,  4.206435 ,\n",
              "           3.440446 ],\n",
              "         ...,\n",
              "         [-1.999567 , -1.999567 , -1.999567 , ..., -1.999567 , -1.999567 ,\n",
              "          -1.999567 ],\n",
              "         [-1.999567 , -1.999567 , -1.999567 , ..., -1.999567 , -1.999567 ,\n",
              "          -1.999567 ],\n",
              "         [-1.999567 , -1.999567 , -1.999567 , ..., -1.999567 , -1.999567 ,\n",
              "          -1.999567 ]], dtype=float32)],\n",
              " [array([1., 0., 0., 0., 0., 0., 0., 0., 0., 0., 0., 0., 0., 0., 0., 0., 0.,\n",
              "         0., 0., 0., 0., 0., 0., 0., 0., 0., 0., 0., 0., 0., 0., 0., 0., 0.,\n",
              "         0., 0., 0., 0., 0., 0., 0., 0., 0., 0., 0., 0., 0., 0., 0., 0., 0.,\n",
              "         0., 0., 0., 0., 0., 0., 0., 0., 0., 0., 0., 0., 0., 0., 0., 0., 0.,\n",
              "         0., 0., 0., 0., 0., 0., 0., 0., 0., 0., 0., 0., 0., 0., 0., 0., 0.,\n",
              "         0., 0., 0., 0., 0., 0., 0., 0., 0., 0., 0., 0., 0., 0., 0., 0., 0.,\n",
              "         0., 0., 0., 0., 0., 0., 0., 0., 0., 0., 0., 0., 0., 0., 0., 0., 0.,\n",
              "         0., 0., 0., 0., 0., 0., 0., 0., 0., 0., 0., 0., 0., 0., 0., 0., 0.,\n",
              "         0., 0., 0., 0., 0., 0., 0., 0., 0., 0., 0., 0., 0., 0., 0., 0., 0.,\n",
              "         0., 0., 0., 0., 0., 0., 0., 0., 0., 0., 0., 0., 0., 0., 0., 0., 0.,\n",
              "         0., 0., 0., 0., 0., 0., 0., 0., 0., 0., 0., 0., 0., 0., 0., 0., 0.,\n",
              "         0., 0., 0., 0., 0., 0., 0., 0., 0., 0., 0., 0., 0., 0., 0., 0., 0.,\n",
              "         0., 0., 0., 0., 0., 0., 0., 0., 0., 0., 0., 0., 0., 0., 0., 0., 0.,\n",
              "         0., 0., 0., 0., 0., 0., 0., 0., 0., 0., 0., 0., 0., 0., 0., 0., 0.,\n",
              "         0., 0., 0., 0., 0., 0., 0., 0., 0., 0., 0., 0., 0., 0., 0., 0., 0.,\n",
              "         0., 0., 0., 0., 0., 0., 0., 0., 0.])])"
            ]
          },
          "metadata": {},
          "execution_count": 14
        }
      ],
      "source": [
        "# Reading the batches and processing the data to be fed to the neural network will be part of the learn function, this only shows how it will work\n",
        "batch_number = 0\n",
        "X_for_learn, Y_for_learn = get_batch(file_paths=X,labels=Y,batch_number=batch_number,batch_size=1,data_size=len(X))\n",
        "X_for_learn, Y_for_learn"
      ]
    }
  ],
  "metadata": {
    "colab": {
      "provenance": []
    },
    "kernelspec": {
      "display_name": "Python 3 (ipykernel)",
      "language": "python",
      "name": "python3"
    },
    "language_info": {
      "codemirror_mode": {
        "name": "ipython",
        "version": 3
      },
      "file_extension": ".py",
      "mimetype": "text/x-python",
      "name": "python",
      "nbconvert_exporter": "python",
      "pygments_lexer": "ipython3",
      "version": "3.11.4"
    }
  },
  "nbformat": 4,
  "nbformat_minor": 0
}